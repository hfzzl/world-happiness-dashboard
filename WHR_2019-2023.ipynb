{
 "cells": [
  {
   "cell_type": "code",
   "execution_count": 1,
   "id": "4718351c-6148-4d10-ae08-dcad8662f9c2",
   "metadata": {},
   "outputs": [],
   "source": [
    "import pandas as pd\n",
    "import numpy as np"
   ]
  },
  {
   "cell_type": "code",
   "execution_count": 2,
   "id": "06956ec7-bb75-4c0c-aa9f-455d11b6bcd5",
   "metadata": {},
   "outputs": [],
   "source": [
    "# loading data for selected year and adding the \"year\"column\n",
    "\n",
    "data_list = []\n",
    "\n",
    "for year in range(2019, 2024):\n",
    "    filename = f'/Users/Admin/Desktop/Data analytic/practice/archive/WHR_{year}.csv'\n",
    "    data = pd.read_csv(filename)\n",
    "    data['year'] = year\n",
    "    data_list.append(data)\n",
    "    "
   ]
  },
  {
   "cell_type": "code",
   "execution_count": 3,
   "id": "80e08108-a209-47dc-a478-a97ac838da66",
   "metadata": {},
   "outputs": [],
   "source": [
    "# combining all data in one table\n",
    "\n",
    "all_data = pd.concat(data_list, ignore_index = True)"
   ]
  },
  {
   "cell_type": "code",
   "execution_count": 4,
   "id": "65408731-1ec6-4593-b4bd-dd3ba6df5102",
   "metadata": {},
   "outputs": [
    {
     "data": {
      "text/plain": [
       "country                         0\n",
       "region                          0\n",
       "happiness_score                 0\n",
       "gdp_per_capita                  0\n",
       "social_support                  0\n",
       "healthy_life_expectancy         1\n",
       "freedom_to_make_life_choices    0\n",
       "generosity                      0\n",
       "perceptions_of_corruption       0\n",
       "year                            0\n",
       "dtype: int64"
      ]
     },
     "execution_count": 4,
     "metadata": {},
     "output_type": "execute_result"
    }
   ],
   "source": [
    "# check for null value\n",
    "\n",
    "all_data.isnull().sum()"
   ]
  },
  {
   "cell_type": "code",
   "execution_count": 5,
   "id": "0c3a183c-3e24-469c-8289-6974801b1069",
   "metadata": {},
   "outputs": [
    {
     "data": {
      "text/html": [
       "<div>\n",
       "<style scoped>\n",
       "    .dataframe tbody tr th:only-of-type {\n",
       "        vertical-align: middle;\n",
       "    }\n",
       "\n",
       "    .dataframe tbody tr th {\n",
       "        vertical-align: top;\n",
       "    }\n",
       "\n",
       "    .dataframe thead th {\n",
       "        text-align: right;\n",
       "    }\n",
       "</style>\n",
       "<table border=\"1\" class=\"dataframe\">\n",
       "  <thead>\n",
       "    <tr style=\"text-align: right;\">\n",
       "      <th></th>\n",
       "      <th>country</th>\n",
       "      <th>region</th>\n",
       "      <th>happiness_score</th>\n",
       "      <th>gdp_per_capita</th>\n",
       "      <th>social_support</th>\n",
       "      <th>healthy_life_expectancy</th>\n",
       "      <th>freedom_to_make_life_choices</th>\n",
       "      <th>generosity</th>\n",
       "      <th>perceptions_of_corruption</th>\n",
       "      <th>year</th>\n",
       "    </tr>\n",
       "  </thead>\n",
       "  <tbody>\n",
       "    <tr>\n",
       "      <th>702</th>\n",
       "      <td>State of Palestine</td>\n",
       "      <td>Middle East and North Africa</td>\n",
       "      <td>4.908</td>\n",
       "      <td>1.144</td>\n",
       "      <td>1.309</td>\n",
       "      <td>NaN</td>\n",
       "      <td>0.416</td>\n",
       "      <td>0.065</td>\n",
       "      <td>0.067</td>\n",
       "      <td>2023</td>\n",
       "    </tr>\n",
       "  </tbody>\n",
       "</table>\n",
       "</div>"
      ],
      "text/plain": [
       "                country                        region  happiness_score  \\\n",
       "702  State of Palestine  Middle East and North Africa            4.908   \n",
       "\n",
       "     gdp_per_capita  social_support  healthy_life_expectancy  \\\n",
       "702           1.144           1.309                      NaN   \n",
       "\n",
       "     freedom_to_make_life_choices  generosity  perceptions_of_corruption  year  \n",
       "702                         0.416       0.065                      0.067  2023  "
      ]
     },
     "execution_count": 5,
     "metadata": {},
     "output_type": "execute_result"
    }
   ],
   "source": [
    "# find row with the null value\n",
    "\n",
    "all_data.loc[(all_data['healthy_life_expectancy'].isnull())]"
   ]
  },
  {
   "cell_type": "code",
   "execution_count": 6,
   "id": "c76549f2-1e90-4af4-b8f0-fcc3f4dacbf4",
   "metadata": {},
   "outputs": [
    {
     "data": {
      "text/html": [
       "<div>\n",
       "<style scoped>\n",
       "    .dataframe tbody tr th:only-of-type {\n",
       "        vertical-align: middle;\n",
       "    }\n",
       "\n",
       "    .dataframe tbody tr th {\n",
       "        vertical-align: top;\n",
       "    }\n",
       "\n",
       "    .dataframe thead th {\n",
       "        text-align: right;\n",
       "    }\n",
       "</style>\n",
       "<table border=\"1\" class=\"dataframe\">\n",
       "  <thead>\n",
       "    <tr style=\"text-align: right;\">\n",
       "      <th></th>\n",
       "      <th>country</th>\n",
       "      <th>region</th>\n",
       "      <th>happiness_score</th>\n",
       "      <th>gdp_per_capita</th>\n",
       "      <th>social_support</th>\n",
       "      <th>healthy_life_expectancy</th>\n",
       "      <th>freedom_to_make_life_choices</th>\n",
       "      <th>generosity</th>\n",
       "      <th>perceptions_of_corruption</th>\n",
       "      <th>year</th>\n",
       "    </tr>\n",
       "  </thead>\n",
       "  <tbody>\n",
       "    <tr>\n",
       "      <th>702</th>\n",
       "      <td>State of Palestine</td>\n",
       "      <td>Middle East and North Africa</td>\n",
       "      <td>4.908</td>\n",
       "      <td>1.144</td>\n",
       "      <td>1.309</td>\n",
       "      <td>NaN</td>\n",
       "      <td>0.416</td>\n",
       "      <td>0.065</td>\n",
       "      <td>0.067</td>\n",
       "      <td>2023</td>\n",
       "    </tr>\n",
       "  </tbody>\n",
       "</table>\n",
       "</div>"
      ],
      "text/plain": [
       "                country                        region  happiness_score  \\\n",
       "702  State of Palestine  Middle East and North Africa            4.908   \n",
       "\n",
       "     gdp_per_capita  social_support  healthy_life_expectancy  \\\n",
       "702           1.144           1.309                      NaN   \n",
       "\n",
       "     freedom_to_make_life_choices  generosity  perceptions_of_corruption  year  \n",
       "702                         0.416       0.065                      0.067  2023  "
      ]
     },
     "execution_count": 6,
     "metadata": {},
     "output_type": "execute_result"
    }
   ],
   "source": [
    "# find all data for State of Palestine, but State of Palestine only have data only in year 2023\n",
    "\n",
    "find_country = 'State of Palestine' \n",
    "all_data.loc[all_data['country'] == find_country]"
   ]
  },
  {
   "cell_type": "code",
   "execution_count": 7,
   "id": "5999f2b7-d7b4-4086-a635-591b1c881247",
   "metadata": {},
   "outputs": [
    {
     "data": {
      "text/plain": [
       "0"
      ]
     },
     "execution_count": 7,
     "metadata": {},
     "output_type": "execute_result"
    }
   ],
   "source": [
    "# check for duplicate\n",
    "\n",
    "all_data.duplicated().sum()"
   ]
  },
  {
   "cell_type": "code",
   "execution_count": 8,
   "id": "29bcb52e-8332-4e91-a47a-20b9b2b84511",
   "metadata": {},
   "outputs": [],
   "source": [
    "all_data.to_csv('WHR_2019-2023.csv', index=False)"
   ]
  },
  {
   "cell_type": "code",
   "execution_count": 9,
   "id": "3bde6b35-97aa-4a9d-9c76-c7d1aeddfb91",
   "metadata": {},
   "outputs": [
    {
     "data": {
      "text/html": [
       "<div>\n",
       "<style scoped>\n",
       "    .dataframe tbody tr th:only-of-type {\n",
       "        vertical-align: middle;\n",
       "    }\n",
       "\n",
       "    .dataframe tbody tr th {\n",
       "        vertical-align: top;\n",
       "    }\n",
       "\n",
       "    .dataframe thead th {\n",
       "        text-align: right;\n",
       "    }\n",
       "</style>\n",
       "<table border=\"1\" class=\"dataframe\">\n",
       "  <thead>\n",
       "    <tr style=\"text-align: right;\">\n",
       "      <th></th>\n",
       "      <th>country</th>\n",
       "      <th>region</th>\n",
       "      <th>happiness_score</th>\n",
       "      <th>gdp_per_capita</th>\n",
       "      <th>social_support</th>\n",
       "      <th>healthy_life_expectancy</th>\n",
       "      <th>freedom_to_make_life_choices</th>\n",
       "      <th>generosity</th>\n",
       "      <th>perceptions_of_corruption</th>\n",
       "      <th>year</th>\n",
       "    </tr>\n",
       "  </thead>\n",
       "  <tbody>\n",
       "    <tr>\n",
       "      <th>0</th>\n",
       "      <td>Finland</td>\n",
       "      <td>Western Europe</td>\n",
       "      <td>7.769</td>\n",
       "      <td>1.340</td>\n",
       "      <td>1.587</td>\n",
       "      <td>0.986</td>\n",
       "      <td>0.596</td>\n",
       "      <td>0.153</td>\n",
       "      <td>0.393</td>\n",
       "      <td>2019</td>\n",
       "    </tr>\n",
       "    <tr>\n",
       "      <th>1</th>\n",
       "      <td>Denmark</td>\n",
       "      <td>Western Europe</td>\n",
       "      <td>7.600</td>\n",
       "      <td>1.383</td>\n",
       "      <td>1.573</td>\n",
       "      <td>0.996</td>\n",
       "      <td>0.592</td>\n",
       "      <td>0.252</td>\n",
       "      <td>0.410</td>\n",
       "      <td>2019</td>\n",
       "    </tr>\n",
       "    <tr>\n",
       "      <th>2</th>\n",
       "      <td>Norway</td>\n",
       "      <td>Western Europe</td>\n",
       "      <td>7.554</td>\n",
       "      <td>1.488</td>\n",
       "      <td>1.582</td>\n",
       "      <td>1.028</td>\n",
       "      <td>0.603</td>\n",
       "      <td>0.271</td>\n",
       "      <td>0.341</td>\n",
       "      <td>2019</td>\n",
       "    </tr>\n",
       "    <tr>\n",
       "      <th>3</th>\n",
       "      <td>Iceland</td>\n",
       "      <td>Western Europe</td>\n",
       "      <td>7.494</td>\n",
       "      <td>1.380</td>\n",
       "      <td>1.624</td>\n",
       "      <td>1.026</td>\n",
       "      <td>0.591</td>\n",
       "      <td>0.354</td>\n",
       "      <td>0.118</td>\n",
       "      <td>2019</td>\n",
       "    </tr>\n",
       "    <tr>\n",
       "      <th>4</th>\n",
       "      <td>Netherlands</td>\n",
       "      <td>Western Europe</td>\n",
       "      <td>7.488</td>\n",
       "      <td>1.396</td>\n",
       "      <td>1.522</td>\n",
       "      <td>0.999</td>\n",
       "      <td>0.557</td>\n",
       "      <td>0.322</td>\n",
       "      <td>0.298</td>\n",
       "      <td>2019</td>\n",
       "    </tr>\n",
       "  </tbody>\n",
       "</table>\n",
       "</div>"
      ],
      "text/plain": [
       "       country          region  happiness_score  gdp_per_capita  \\\n",
       "0      Finland  Western Europe            7.769           1.340   \n",
       "1      Denmark  Western Europe            7.600           1.383   \n",
       "2       Norway  Western Europe            7.554           1.488   \n",
       "3      Iceland  Western Europe            7.494           1.380   \n",
       "4  Netherlands  Western Europe            7.488           1.396   \n",
       "\n",
       "   social_support  healthy_life_expectancy  freedom_to_make_life_choices  \\\n",
       "0           1.587                    0.986                         0.596   \n",
       "1           1.573                    0.996                         0.592   \n",
       "2           1.582                    1.028                         0.603   \n",
       "3           1.624                    1.026                         0.591   \n",
       "4           1.522                    0.999                         0.557   \n",
       "\n",
       "   generosity  perceptions_of_corruption  year  \n",
       "0       0.153                      0.393  2019  \n",
       "1       0.252                      0.410  2019  \n",
       "2       0.271                      0.341  2019  \n",
       "3       0.354                      0.118  2019  \n",
       "4       0.322                      0.298  2019  "
      ]
     },
     "execution_count": 9,
     "metadata": {},
     "output_type": "execute_result"
    }
   ],
   "source": [
    "all_data.head(5)"
   ]
  }
 ],
 "metadata": {
  "kernelspec": {
   "display_name": "Python 3 (ipykernel)",
   "language": "python",
   "name": "python3"
  },
  "language_info": {
   "codemirror_mode": {
    "name": "ipython",
    "version": 3
   },
   "file_extension": ".py",
   "mimetype": "text/x-python",
   "name": "python",
   "nbconvert_exporter": "python",
   "pygments_lexer": "ipython3",
   "version": "3.12.7"
  }
 },
 "nbformat": 4,
 "nbformat_minor": 5
}
